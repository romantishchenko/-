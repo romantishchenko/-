{
 "cells": [
  {
   "cell_type": "code",
   "execution_count": 32,
   "metadata": {},
   "outputs": [
    {
     "name": "stdout",
     "output_type": "stream",
     "text": [
      "[[ 1. -1.  1.  1.]\n",
      " [ 1.  1.  1.  1.]\n",
      " [-1.  1. -1.  1.]\n",
      " [ 1. -1.  1. -1.]]\n",
      "[[-1.  1. -1.]\n",
      " [-1. -1.  1.]\n",
      " [-1.  1.  1.]\n",
      " [ 1. -1.  1.]]\n",
      "[[ 1.  1. -1.  1.]\n",
      " [ 1.  1. -1. -1.]\n",
      " [-1.  1. -1.  1.]]\n"
     ]
    },
    {
     "data": {
      "text/plain": [
       "<__main__.grid at 0x22745bb00b8>"
      ]
     },
     "execution_count": 32,
     "metadata": {},
     "output_type": "execute_result"
    }
   ],
   "source": [
    "import numpy as np\n",
    "import random\n",
    "\n",
    "class grid:\n",
    "    \n",
    "    GENERATOR = [-1, 1]\n",
    "\n",
    "    def __init__(self, n):\n",
    "        self.n = n\n",
    "        # горизонтальные\n",
    "        self.horisontal = self.fill(n, n-1)\n",
    "        # вертикальные\n",
    "        self.vertical = self.fill(n-1, n)\n",
    "        # узлы\n",
    "        self.vertex = self.fill(n, n)\n",
    "        # для суммы\n",
    "        #self.energy_in_vertex = np.zeros((n, n))\n",
    "        print(self.vertex)\n",
    "        print(self.horisontal)\n",
    "        print(self.vertical)\n",
    "    \n",
    "    def fill(self, n, m):\n",
    "        res = np.zeros((n, m))\n",
    "        for i in range(n):\n",
    "            for j in range(m):\n",
    "                res[i][j] = self.GENERATOR[random.randint(0, 1)]\n",
    "        return res\n",
    "#энергия в вершинах:    \n",
    "#self.energy_in_vertex[i, j] = vertex[i-1, j] * vertex[i, j] * vertical[i-1, j] + vertex[i+1, j] * vertex[i, j] * vertical[i, j] + vertex[i, j-1] * vertex[i, j] * horisontal[i, j-1] + vertex[i, j+1] * vertex[i, j] * horisontal[i, j]\n",
    "#total energy:\n",
    "# for i in range(n):\n",
    "#     for i in range(n):\n",
    "#         H(vertex) += -(energy_in_vertex[i,j])\n",
    "#H зависит от того, какие значение в вершинах.\n",
    "grid(4)"
   ]
  },
  {
   "cell_type": "code",
   "execution_count": 25,
   "metadata": {},
   "outputs": [
    {
     "ename": "NameError",
     "evalue": "name 'horisontal' is not defined",
     "output_type": "error",
     "traceback": [
      "\u001b[1;31m---------------------------------------------------------------------------\u001b[0m",
      "\u001b[1;31mNameError\u001b[0m                                 Traceback (most recent call last)",
      "\u001b[1;32m<ipython-input-25-9c5fc32e423a>\u001b[0m in \u001b[0;36m<module>\u001b[1;34m\u001b[0m\n\u001b[1;32m----> 1\u001b[1;33m \u001b[0mprint\u001b[0m\u001b[1;33m(\u001b[0m\u001b[0mhorisontal\u001b[0m\u001b[1;33m)\u001b[0m\u001b[1;33m\u001b[0m\u001b[1;33m\u001b[0m\u001b[0m\n\u001b[0m",
      "\u001b[1;31mNameError\u001b[0m: name 'horisontal' is not defined"
     ]
    }
   ],
   "source": [
    "print(horisontal)"
   ]
  },
  {
   "cell_type": "code",
   "execution_count": null,
   "metadata": {},
   "outputs": [],
   "source": []
  }
 ],
 "metadata": {
  "kernelspec": {
   "display_name": "Python 3",
   "language": "python",
   "name": "python3"
  },
  "language_info": {
   "codemirror_mode": {
    "name": "ipython",
    "version": 3
   },
   "file_extension": ".py",
   "mimetype": "text/x-python",
   "name": "python",
   "nbconvert_exporter": "python",
   "pygments_lexer": "ipython3",
   "version": "3.7.3"
  }
 },
 "nbformat": 4,
 "nbformat_minor": 2
}
